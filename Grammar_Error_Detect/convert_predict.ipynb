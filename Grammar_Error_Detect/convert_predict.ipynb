{
 "cells": [
  {
   "cell_type": "code",
   "execution_count": 2,
   "source": [
    "# 2022测试集输出格式转换\n",
    "import pandas as pd\n",
    "test = pd.read_excel('测试集输出结果地址(excel文件)')\n",
    "\n",
    "res = []\n",
    "for index in test.index:\n",
    "    id_ = str(test.iloc[index]['id'])\n",
    "    position = eval(test.iloc[index]['position_pred'])\n",
    "    # if not position or add_test_dict[id_]=={}:\n",
    "    if not position:\n",
    "        res.append(',\\t'.join([id_, 'correct']))\n",
    "    # print(type(eval(position)[0]))\n",
    "    else:\n",
    "        position = sorted(position, key=lambda x: x['position'][0])\n",
    "        # print(position)\n",
    "        for pos in position:\n",
    "            if pos['error_type'] in ['R', 'W']:\n",
    "                res.append(',\\t'.join([id_, str(pos['position'][0]+1), str(pos['position'][1]), pos['error_type']]))\n",
    "            else:\n",
    "                res.append(',\\t'.join([id_, str(pos['position'][0]+1), str(pos['position'][1]), pos['error_type']]))\n",
    "    \n",
    "# 确认预测结果的数目没有问题\n",
    "print(len(set([item.split(',\\t')[0] for item in res])))\n",
    "open('提交格式转换结果地址', 'w').write('\\n'.join(res))\n"
   ],
   "outputs": [
    {
     "output_type": "stream",
     "name": "stdout",
     "text": [
      "3767\n"
     ]
    },
    {
     "output_type": "execute_result",
     "data": {
      "text/plain": [
       "67873"
      ]
     },
     "metadata": {},
     "execution_count": 2
    }
   ],
   "metadata": {}
  }
 ],
 "metadata": {
  "orig_nbformat": 4,
  "language_info": {
   "name": "python",
   "version": "3.7.13",
   "mimetype": "text/x-python",
   "codemirror_mode": {
    "name": "ipython",
    "version": 3
   },
   "pygments_lexer": "ipython3",
   "nbconvert_exporter": "python",
   "file_extension": ".py"
  },
  "kernelspec": {
   "name": "python3",
   "display_name": "Python 3.7.13 64-bit ('cged': conda)"
  },
  "interpreter": {
   "hash": "d692a9dbdcc2d8f04b7096db147c9d104bdbb11bc8adc6388eb0d5aeb3a8c2c7"
  }
 },
 "nbformat": 4,
 "nbformat_minor": 2
}