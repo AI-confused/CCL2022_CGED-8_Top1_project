{
 "cells": [
  {
   "cell_type": "code",
   "execution_count": null,
   "source": [
    "# 2022测试集输出格式转换\n",
    "import pandas as pd\n",
    "test = pd.read_excel('/home/liyunliang/CGED_Task/output/Grammar_detect_task_predict_22/Result/test_prediction-2022-09-18|22:22:34-test-0-Test_mode.xlsx')\n",
    "add_test = open('/home/liyunliang/CGED_Task/cged.pred.txt.bak').readlines()\n",
    "add_test_dict = {}\n",
    "for add in add_test:\n",
    "    add = add.strip().split(',\\t')\n",
    "    assert len(add) in [2,4,5]\n",
    "    if len(add) in [2]:\n",
    "        # correct\n",
    "        add_test_dict[add[0]] = {}\n",
    "    elif len(add) in [4]:\n",
    "        # R/W\n",
    "        if add[0] not in add_test_dict:\n",
    "            add_test_dict[add[0]] = {}\n",
    "        add_test_dict[add[0]][(add[1], add[2], add[3])] = ''\n",
    "    else:\n",
    "        # S/M\n",
    "        if add[0] not in add_test_dict:\n",
    "            add_test_dict[add[0]] = {}\n",
    "        add_test_dict[add[0]][(add[1], add[2], add[3])] = add[4]\n",
    "# add_test_dict\n",
    "cnt = 0\n",
    "res = []\n",
    "for index in test.index:\n",
    "    id_ = str(test.iloc[index]['id'])\n",
    "    position = eval(test.iloc[index]['position_pred'])\n",
    "    # if not position or add_test_dict[id_]=={}:\n",
    "    if not position:\n",
    "        res.append(',\\t'.join([id_, 'correct']))\n",
    "    # print(type(eval(position)[0]))\n",
    "    else:\n",
    "        position = sorted(position, key=lambda x: x['position'][0])\n",
    "        # print(position)\n",
    "        for pos in position:\n",
    "            if pos['error_type'] in ['R', 'W']:\n",
    "                res.append(',\\t'.join([id_, str(pos['position'][0]+1), str(pos['position'][1]), pos['error_type']]))\n",
    "            elif add_test_dict[id_]!= {} and (str(pos['position'][0]+1), str(pos['position'][1]), pos['error_type']) in add_test_dict[id_] \\\n",
    "                and add_test_dict[id_][(str(pos['position'][0]+1), str(pos['position'][1]), pos['error_type'])] != '':\n",
    "                cnt += 1\n",
    "                res.append(',\\t'.join([id_, str(pos['position'][0]+1), str(pos['position'][1]), pos['error_type'], add_test_dict[id_][(str(pos['position'][0]+1), str(pos['position'][1]), pos['error_type'])]]))\n",
    "            else:\n",
    "                res.append(',\\t'.join([id_, str(pos['position'][0]+1), str(pos['position'][1]), pos['error_type']]))\n",
    "    \n",
    "print(cnt)\n",
    "# 确认预测结果的数目没有问题\n",
    "print(len(set([item.split(',\\t')[0] for item in res])))\n",
    "open('/home/liyunliang/CGED_Task/cged_pred_check.txt', 'w').write('\\n'.join(res))\n"
   ],
   "outputs": [],
   "metadata": {}
  }
 ],
 "metadata": {
  "orig_nbformat": 4,
  "language_info": {
   "name": "python"
  }
 },
 "nbformat": 4,
 "nbformat_minor": 2
}