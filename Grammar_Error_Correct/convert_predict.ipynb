{
 "cells": [
  {
   "cell_type": "code",
   "execution_count": null,
   "source": [
    "# correct结果转换\n",
    "import pandas as pd\n",
    "data = pd.read_excel('/home/liyunliang/CGED_Task/output/Grammar_correct_task_predict_22/Result/eval_prediction-2022-09-19|11:01:05-test-0-Test_mode.xlsx')\n",
    "ids = data['id']\n",
    "edits = data['edits']\n",
    "res = []\n",
    "id_used = set()\n",
    "for i in range(len(ids)):\n",
    "    if eval(edits[i]) == []:\n",
    "        res.append(',\\t'.join([str(ids[i]), 'correct']))\n",
    "        id_used.add(str(ids[i]))\n",
    "    for edit in eval(edits[i]):\n",
    "        # print(edit)\n",
    "        # print(list(edit))\n",
    "        if len(edit)==4 and '[UNK]' in edit[3]:\n",
    "            print(edit)\n",
    "            continue\n",
    "        res.append(',\\t'.join([str(ids[i])] + list(edit)))\n",
    "        id_used.add(str(ids[i]))\n",
    "    if str(ids[i]) not in id_used:\n",
    "        id_used.add(str(ids[i]))\n",
    "        res.append(',\\t'.join([str(ids[i]), 'correct']))\n",
    "        \n",
    "open('/home/liyunliang/CGED_Task/cged_pred_ptr_check.txt', 'w').write('\\n'.join(res))\n",
    "print(len(set([item.split(',\\t')[0] for item in res])))"
   ],
   "outputs": [],
   "metadata": {}
  }
 ],
 "metadata": {
  "orig_nbformat": 4,
  "language_info": {
   "name": "python"
  }
 },
 "nbformat": 4,
 "nbformat_minor": 2
}