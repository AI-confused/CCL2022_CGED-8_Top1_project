{
 "cells": [
  {
   "cell_type": "code",
   "execution_count": null,
   "source": [
    "# correct结果转换\n",
    "import pandas as pd\n",
    "data = pd.read_excel('测试集输出结果地址(excel文件)')\n",
    "ids = data['id']\n",
    "edits = data['edits']\n",
    "res = []\n",
    "id_used = set()\n",
    "for i in range(len(ids)):\n",
    "    if eval(edits[i]) == []:\n",
    "        res.append(',\\t'.join([str(ids[i]), 'correct']))\n",
    "        id_used.add(str(ids[i]))\n",
    "    for edit in eval(edits[i]):\n",
    "        # print(edit)\n",
    "        # print(list(edit))\n",
    "        if len(edit)==4 and '[UNK]' in edit[3]:\n",
    "            print(edit)\n",
    "            continue\n",
    "        res.append(',\\t'.join([str(ids[i])] + list(edit)))\n",
    "        id_used.add(str(ids[i]))\n",
    "    if str(ids[i]) not in id_used:\n",
    "        id_used.add(str(ids[i]))\n",
    "        res.append(',\\t'.join([str(ids[i]), 'correct']))\n",
    "        \n",
    "open('提交格式转换结果地址', 'w').write('\\n'.join(res))\n",
    "print(len(set([item.split(',\\t')[0] for item in res])))"
   ],
   "outputs": [],
   "metadata": {}
  }
 ],
 "metadata": {
  "orig_nbformat": 4,
  "language_info": {
   "name": "python"
  }
 },
 "nbformat": 4,
 "nbformat_minor": 2
}